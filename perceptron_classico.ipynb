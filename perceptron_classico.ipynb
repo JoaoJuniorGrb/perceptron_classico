{
  "nbformat": 4,
  "nbformat_minor": 0,
  "metadata": {
    "colab": {
      "provenance": [],
      "authorship_tag": "ABX9TyPzIzv+Uiu9eABqYB2nyxy4",
      "include_colab_link": true
    },
    "kernelspec": {
      "name": "python3",
      "display_name": "Python 3"
    },
    "language_info": {
      "name": "python"
    }
  },
  "cells": [
    {
      "cell_type": "markdown",
      "metadata": {
        "id": "view-in-github",
        "colab_type": "text"
      },
      "source": [
        "<a href=\"https://colab.research.google.com/github/JoaoJuniorGrb/perceptron_classico/blob/main/perceptron_classico.ipynb\" target=\"_parent\"><img src=\"https://colab.research.google.com/assets/colab-badge.svg\" alt=\"Open In Colab\"/></a>"
      ]
    },
    {
      "cell_type": "code",
      "execution_count": 9,
      "metadata": {
        "colab": {
          "base_uri": "https://localhost:8080/"
        },
        "id": "hLLBAYBcvqgN",
        "outputId": "1450ec62-4420-47f2-d980-a076d78755a1"
      },
      "outputs": [
        {
          "output_type": "stream",
          "name": "stdout",
          "text": [
            "\n",
            "Predições (Treinamento Manual):\n",
            "Entrada: [0 0] -> Saída prevista: 0, Saída esperada: 0\n",
            "Entrada: [0 1] -> Saída prevista: 0, Saída esperada: 0\n",
            "Entrada: [1 0] -> Saída prevista: 0, Saída esperada: 0\n",
            "Entrada: [1 1] -> Saída prevista: 1, Saída esperada: 1\n"
          ]
        }
      ],
      "source": [
        "# Dados de entrada\n",
        "x = np.array([[0, 0], [0, 1], [1, 0], [1, 1]])\n",
        "y = np.array([[0], [0], [0], [1]])\n",
        "\n",
        "# Inicialização de pesos e bias\n",
        "weights = np.random.rand(2, 1)\n",
        "bias = np.random.rand(1)\n",
        "learning_rate = 0.1\n",
        "\n",
        "# Função de ativação step\n",
        "def step_activation(x):\n",
        "    return np.where(x > 0, 1, 0)\n",
        "\n",
        "# Treinamento manual\n",
        "epochs = 100\n",
        "for epoch in range(epochs):\n",
        "    for i in range(len(x)):\n",
        "        # Forward pass\n",
        "        z = np.dot(x[i], weights) + bias\n",
        "        y_pred = step_activation(z)\n",
        "\n",
        "        # Erro\n",
        "        error = y[i] - y_pred\n",
        "\n",
        "        # Atualização dos pesos e bias\n",
        "        weights += learning_rate * error * x[i].reshape(-1, 1)\n",
        "        bias += learning_rate * error\n",
        "\n",
        "# Teste\n",
        "print(\"\\nPredições (Treinamento Manual):\")\n",
        "for i in range(len(x)):\n",
        "    z = np.dot(x[i], weights) + bias\n",
        "    y_pred = step_activation(z)\n",
        "    print(f\"Entrada: {x[i]} -> Saída prevista: {y_pred[0]}, Saída esperada: {y[i][0]}\")"
      ]
    }
  ]
}